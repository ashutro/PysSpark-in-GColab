{
  "cells": [
    {
      "cell_type": "code",
      "execution_count": null,
      "metadata": {
        "id": "H0SP0_5qY3jD"
      },
      "outputs": [],
      "source": [
        "#command is used to install the OpenJDK 8 Java Development Kit (JDK) in a quiet mode (suppressing output)\n",
        "!apt-get install openjdk-8-jdk-headless -qq > /dev/null"
      ]
    },
    {
      "cell_type": "code",
      "execution_count": null,
      "metadata": {
        "id": "RuMZLuugZOk_"
      },
      "outputs": [],
      "source": [
        "#fetches the Spark distribution archive from the specified URL in a quiet manner\n",
        "!wget -q https://dlcdn.apache.org/spark/spark-3.4.1/spark-3.4.1-bin-hadoop3.tgz"
      ]
    },
    {
      "cell_type": "code",
      "execution_count": null,
      "metadata": {
        "id": "GeBw2uvqaYsi"
      },
      "outputs": [],
      "source": [
        "#unpacks the compressed archive and makes the Spark files accessible for use.\n",
        "!tar xf spark-3.4.1-bin-hadoop3.tgz"
      ]
    },
    {
      "cell_type": "code",
      "execution_count": null,
      "metadata": {
        "id": "LR2oRm5ZagDh"
      },
      "outputs": [],
      "source": [
        "#enable you to work with Apache Spark from your Python environment more easily\n",
        "!pip install -q findspark"
      ]
    },
    {
      "cell_type": "code",
      "execution_count": null,
      "metadata": {
        "id": "awd6bnx6bJkt"
      },
      "outputs": [],
      "source": [
        "import os\n",
        "\n",
        "# Set the JAVA_HOME environment variable to the path of the Java installation\n",
        "os.environ[\"JAVA_HOME\"] = \"/usr/lib/jvm/java-8-openjdk-amd64\"\n",
        "\n",
        "# Set the SPARK_HOME environment variable to the path of the extracted Spark directory\n",
        "os.environ[\"SPARK_HOME\"] = \"/content/spark-3.4.1-bin-hadoop3\"\n"
      ]
    },
    {
      "cell_type": "code",
      "execution_count": null,
      "metadata": {
        "id": "6_8gJGSabc0f"
      },
      "outputs": [],
      "source": [
        "# Spark environment is properly configured and accessible within your Python environment.\n",
        "import findspark\n",
        "findspark.init()"
      ]
    },
    {
      "cell_type": "code",
      "execution_count": null,
      "metadata": {
        "colab": {
          "base_uri": "https://localhost:8080/"
        },
        "id": "4dluuTbrbmSJ",
        "outputId": "fef14ffa-2571-42b5-cc6d-515ab086525e"
      },
      "outputs": [],
      "source": [
        "#path to your Spark installation matches your expectations\n",
        "location = findspark.find()\n",
        "print(location)"
      ]
    },
    {
      "cell_type": "code",
      "execution_count": null,
      "metadata": {
        "id": "jnzFmpSIbyX2"
      },
      "outputs": [],
      "source": [
        "#configuring Spark to run in local mode with specific application and UI settings\n",
        "from pyspark.sql import SparkSession\n",
        "spark = SparkSession.builder\\\n",
        "        .master(\"local\")\\\n",
        "        .appName(\"Colab\")\\\n",
        "        .config('spark.ui.port', '4050')\\\n",
        "        .getOrCreate()"
      ]
    },
    {
      "cell_type": "code",
      "execution_count": null,
      "metadata": {
        "colab": {
          "base_uri": "https://localhost:8080/",
          "height": 219
        },
        "id": "viMHC5cycMGR",
        "outputId": "3d623f59-3490-4873-fe81-622fc6e3c6fd"
      },
      "outputs": [],
      "source": [
        "spark"
      ]
    },
    {
      "cell_type": "code",
      "execution_count": null,
      "metadata": {
        "colab": {
          "base_uri": "https://localhost:8080/"
        },
        "id": "g62CRgnNMuj9",
        "outputId": "e7141708-c51d-4b17-8e56-76b6b9a63858"
      },
      "outputs": [],
      "source": [
        "# Download Ngrok binary\n",
        "!wget https://bin.equinox.io/c/4VmDzA7iaHb/ngrok-stable-linux-amd64.zip\n",
        "\n",
        "# Unzip Ngrok binary\n",
        "!unzip ngrok-stable-linux-amd64.zip\n",
        "\n",
        "# Install Ngrok and authenticate with your authtoken\n",
        "\n",
        "!./ngrok authtoken YOUR_AUTHTOKEN\n",
        "\n",
        "# Run Ngrok to create a tunnel\n",
        "get_ipython().system_raw('./ngrok http 4050 &')\n",
        "\n",
        "# Import time module\n",
        "import time\n",
        "\n",
        "# Wait for a few seconds to allow Ngrok to establish the tunnel\n",
        "time.sleep(5)\n",
        "\n",
        "# Use cURL to retrieve tunnel information\n",
        "!curl -s http://localhost:4040/api/tunnels\n",
        "\n",
        "\n",
        "# Run Ngrok to create a tunnel\n",
        "get_ipython().system_raw('./ngrok http 4050 &')\n",
        "\n",
        "# Import time module\n",
        "import time\n",
        "\n",
        "# Wait for a few seconds to allow Ngrok to establish the tunnel\n",
        "time.sleep(5)\n",
        "\n",
        "# Use cURL to retrieve tunnel information\n",
        "!curl -s http://localhost:4040/api/tunnels\n"
      ]
    }
  ],
  "metadata": {
    "colab": {
      "provenance": [],
      "toc_visible": true
    },
    "kernelspec": {
      "display_name": "Python 3",
      "name": "python3"
    },
    "language_info": {
      "codemirror_mode": {
        "name": "ipython",
        "version": 3
      },
      "file_extension": ".py",
      "mimetype": "text/x-python",
      "name": "python",
      "nbconvert_exporter": "python",
      "pygments_lexer": "ipython3",
      "version": "3.11.1"
    }
  },
  "nbformat": 4,
  "nbformat_minor": 0
}
