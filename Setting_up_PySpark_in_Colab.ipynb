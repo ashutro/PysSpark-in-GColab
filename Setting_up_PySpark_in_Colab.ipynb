{
  "cells": [
    {
      "cell_type": "code",
      "execution_count": 2,
      "metadata": {
        "id": "H0SP0_5qY3jD"
      },
      "outputs": [
        {
          "name": "stderr",
          "output_type": "stream",
          "text": [
            "'apt-get' is not recognized as an internal or external command,\n",
            "operable program or batch file.\n"
          ]
        }
      ],
      "source": [
        "#command is used to install the OpenJDK 8 Java Development Kit (JDK) in a quiet mode (suppressing output)\n",
        "!apt-get install openjdk-8-jdk-headless -qq > /dev/null"
      ]
    },
    {
      "cell_type": "code",
      "execution_count": 2,
      "metadata": {
        "id": "RuMZLuugZOk_"
      },
      "outputs": [],
      "source": [
        "#fetches the Spark distribution archive from the specified URL in a quiet manner\n",
        "!wget -q https://dlcdn.apache.org/spark/spark-3.4.1/spark-3.4.1-bin-hadoop3.tgz"
      ]
    },
    {
      "cell_type": "code",
      "execution_count": 4,
      "metadata": {
        "id": "GeBw2uvqaYsi"
      },
      "outputs": [],
      "source": [
        "#unpacks the compressed archive and makes the Spark files accessible for use.\n",
        "!tar xf spark-3.4.1-bin-hadoop3.tgz"
      ]
    },
    {
      "cell_type": "code",
      "execution_count": 6,
      "metadata": {
        "id": "LR2oRm5ZagDh"
      },
      "outputs": [],
      "source": [
        "#enable you to work with Apache Spark from your Python environment more easily\n",
        "!pip install -q findspark"
      ]
    },
    {
      "cell_type": "code",
      "execution_count": 7,
      "metadata": {
        "id": "awd6bnx6bJkt"
      },
      "outputs": [],
      "source": [
        "import os\n",
        "\n",
        "# Set the JAVA_HOME environment variable to the path of the Java installation\n",
        "os.environ[\"JAVA_HOME\"] = \"/usr/lib/jvm/java-8-openjdk-amd64\"\n",
        "\n",
        "# Set the SPARK_HOME environment variable to the path of the extracted Spark directory\n",
        "os.environ[\"SPARK_HOME\"] = \"/content/spark-3.4.1-bin-hadoop3\"\n"
      ]
    },
    {
      "cell_type": "code",
      "execution_count": 8,
      "metadata": {
        "id": "6_8gJGSabc0f"
      },
      "outputs": [],
      "source": [
        "# Spark environment is properly configured and accessible within your Python environment.\n",
        "import findspark\n",
        "findspark.init()"
      ]
    },
    {
      "cell_type": "code",
      "execution_count": 9,
      "metadata": {
        "colab": {
          "base_uri": "https://localhost:8080/"
        },
        "id": "4dluuTbrbmSJ",
        "outputId": "fef14ffa-2571-42b5-cc6d-515ab086525e"
      },
      "outputs": [
        {
          "name": "stdout",
          "output_type": "stream",
          "text": [
            "/content/spark-3.4.1-bin-hadoop3\n"
          ]
        }
      ],
      "source": [
        "#path to your Spark installation matches your expectations\n",
        "location = findspark.find()\n",
        "print(location)"
      ]
    },
    {
      "cell_type": "code",
      "execution_count": 10,
      "metadata": {
        "id": "jnzFmpSIbyX2"
      },
      "outputs": [],
      "source": [
        "#configuring Spark to run in local mode with specific application and UI settings\n",
        "from pyspark.sql import SparkSession\n",
        "spark = SparkSession.builder\\\n",
        "        .master(\"local\")\\\n",
        "        .appName(\"Colab\")\\\n",
        "        .config('spark.ui.port', '4050')\\\n",
        "        .getOrCreate()"
      ]
    },
    {
      "cell_type": "code",
      "execution_count": 11,
      "metadata": {
        "colab": {
          "base_uri": "https://localhost:8080/",
          "height": 219
        },
        "id": "viMHC5cycMGR",
        "outputId": "3d623f59-3490-4873-fe81-622fc6e3c6fd"
      },
      "outputs": [
        {
          "data": {
            "text/html": [
              "\n",
              "            <div>\n",
              "                <p><b>SparkSession - in-memory</b></p>\n",
              "                \n",
              "        <div>\n",
              "            <p><b>SparkContext</b></p>\n",
              "\n",
              "            <p><a href=\"http://9888b9db031d:4050\">Spark UI</a></p>\n",
              "\n",
              "            <dl>\n",
              "              <dt>Version</dt>\n",
              "                <dd><code>v3.4.1</code></dd>\n",
              "              <dt>Master</dt>\n",
              "                <dd><code>local</code></dd>\n",
              "              <dt>AppName</dt>\n",
              "                <dd><code>Colab</code></dd>\n",
              "            </dl>\n",
              "        </div>\n",
              "        \n",
              "            </div>\n",
              "        "
            ],
            "text/plain": [
              "<pyspark.sql.session.SparkSession at 0x7f0968228640>"
            ]
          },
          "execution_count": 11,
          "metadata": {},
          "output_type": "execute_result"
        }
      ],
      "source": [
        "spark"
      ]
    },
    {
      "cell_type": "code",
      "execution_count": 25,
      "metadata": {
        "colab": {
          "base_uri": "https://localhost:8080/"
        },
        "id": "g62CRgnNMuj9",
        "outputId": "e7141708-c51d-4b17-8e56-76b6b9a63858"
      },
      "outputs": [
        {
          "name": "stdout",
          "output_type": "stream",
          "text": [
            "--2023-08-24 15:52:05--  https://bin.equinox.io/c/4VmDzA7iaHb/ngrok-stable-linux-amd64.zip\n",
            "Resolving bin.equinox.io (bin.equinox.io)... 18.205.222.128, 54.161.241.46, 54.237.133.81, ...\n",
            "Connecting to bin.equinox.io (bin.equinox.io)|18.205.222.128|:443... connected.\n",
            "HTTP request sent, awaiting response... 200 OK\n",
            "Length: 13921656 (13M) [application/octet-stream]\n",
            "Saving to: ‘ngrok-stable-linux-amd64.zip.9’\n",
            "\n",
            "ngrok-stable-linux- 100%[===================>]  13.28M  18.2MB/s    in 0.7s    \n",
            "\n",
            "2023-08-24 15:52:06 (18.2 MB/s) - ‘ngrok-stable-linux-amd64.zip.9’ saved [13921656/13921656]\n",
            "\n",
            "Archive:  ngrok-stable-linux-amd64.zip\n",
            "replace ngrok? [y]es, [n]o, [A]ll, [N]one, [r]ename: y\n",
            "  inflating: ngrok                   \n",
            "Authtoken saved to configuration file: /root/.ngrok2/ngrok.yml\n",
            "{\"tunnels\":[{\"name\":\"command_line (http)\",\"uri\":\"/api/tunnels/command_line%20%28http%29\",\"public_url\":\"http://9a25-34-168-249-227.ngrok-free.app\",\"proto\":\"http\",\"config\":{\"addr\":\"http://localhost:4050\",\"inspect\":true},\"metrics\":{\"conns\":{\"count\":0,\"gauge\":0,\"rate1\":0,\"rate5\":0,\"rate15\":0,\"p50\":0,\"p90\":0,\"p95\":0,\"p99\":0},\"http\":{\"count\":0,\"rate1\":0,\"rate5\":0,\"rate15\":0,\"p50\":0,\"p90\":0,\"p95\":0,\"p99\":0}}},{\"name\":\"command_line\",\"uri\":\"/api/tunnels/command_line\",\"public_url\":\"https://9a25-34-168-249-227.ngrok-free.app\",\"proto\":\"https\",\"config\":{\"addr\":\"http://localhost:4050\",\"inspect\":true},\"metrics\":{\"conns\":{\"count\":28,\"gauge\":0,\"rate1\":0.18056847213501656,\"rate5\":0.07500420904532673,\"rate15\":0.028875934513478627,\"p50\":413797087.5,\"p90\":30008418452.4,\"p95\":30924884592.799995,\"p99\":31674115637},\"http\":{\"count\":33,\"rate1\":0.18957358914679664,\"rate5\":0.08659143667809754,\"rate15\":0.033803626501423864,\"p50\":12674455,\"p90\":44838707.80000002,\"p95\":92699959.79999965,\"p99\":180322002}}}],\"uri\":\"/api/tunnels\"}\n"
          ]
        }
      ],
      "source": [
        "# Download Ngrok binary\n",
        "!wget https://bin.equinox.io/c/4VmDzA7iaHb/ngrok-stable-linux-amd64.zip\n",
        "\n",
        "# Unzip Ngrok binary\n",
        "!unzip ngrok-stable-linux-amd64.zip\n",
        "\n",
        "# Install Ngrok and authenticate with your authtoken\n",
        "\n",
        "!./ngrok authtoken YOUR_AUTHTOKEN\n",
        "\n",
        "# Run Ngrok to create a tunnel\n",
        "get_ipython().system_raw('./ngrok http 4050 &')\n",
        "\n",
        "# Import time module\n",
        "import time\n",
        "\n",
        "# Wait for a few seconds to allow Ngrok to establish the tunnel\n",
        "time.sleep(5)\n",
        "\n",
        "# Use cURL to retrieve tunnel information\n",
        "!curl -s http://localhost:4040/api/tunnels\n",
        "\n",
        "\n",
        "# Run Ngrok to create a tunnel\n",
        "get_ipython().system_raw('./ngrok http 4050 &')\n",
        "\n",
        "# Import time module\n",
        "import time\n",
        "\n",
        "# Wait for a few seconds to allow Ngrok to establish the tunnel\n",
        "time.sleep(5)\n",
        "\n",
        "# Use cURL to retrieve tunnel information\n",
        "!curl -s http://localhost:4040/api/tunnels\n"
      ]
    }
  ],
  "metadata": {
    "colab": {
      "provenance": [],
      "toc_visible": true
    },
    "kernelspec": {
      "display_name": "Python 3",
      "name": "python3"
    },
    "language_info": {
      "codemirror_mode": {
        "name": "ipython",
        "version": 3
      },
      "file_extension": ".py",
      "mimetype": "text/x-python",
      "name": "python",
      "nbconvert_exporter": "python",
      "pygments_lexer": "ipython3",
      "version": "3.11.1"
    }
  },
  "nbformat": 4,
  "nbformat_minor": 0
}
